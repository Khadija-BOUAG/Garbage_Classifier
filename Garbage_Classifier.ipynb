{
 "cells": [
  {
   "cell_type": "markdown",
   "metadata": {},
   "source": [
    "# Logistic regression"
   ]
  },
  {
   "cell_type": "markdown",
   "metadata": {},
   "source": [
    "## Importation des librairies"
   ]
  },
  {
   "cell_type": "code",
   "execution_count": 33,
   "metadata": {},
   "outputs": [],
   "source": [
    "import os  #Ce module est une bibliothèque dédié aux besoins de gestion de fichiers et de dossiers.\n",
    "import torch\n",
    "import torch.nn.functional as F\n",
    "from torchvision import datasets, transforms\n",
    "from tqdm.notebook import tqdm, trange\n",
    "import numpy as np\n",
    "import os.path"
   ]
  },
  {
   "cell_type": "code",
   "execution_count": 36,
   "metadata": {},
   "outputs": [
    {
     "name": "stdout",
     "output_type": "stream",
     "text": [
      "['cardboard', 'glass', 'metal', 'paper', 'plastic', 'trash']\n"
     ]
    }
   ],
   "source": [
    "#importation des données :\n",
    "\n",
    "data_dir = 'data\\Garbage classification\\Garbage classification'\n",
    "classes = os.listdir(data_dir)\n",
    "print(classes)"
   ]
  },
  {
   "cell_type": "code",
   "execution_count": 37,
   "metadata": {},
   "outputs": [
    {
     "name": "stdout",
     "output_type": "stream",
     "text": [
      "2527\n"
     ]
    }
   ],
   "source": [
    "dataset = datasets.ImageFolder(data_dir,transform = transforms.Compose([\n",
    "    transforms.Resize((128,128)),transforms.ToTensor()]))\n",
    "\n",
    "print(len(dataset))"
   ]
  },
  {
   "cell_type": "markdown",
   "metadata": {},
   "source": [
    "##### Le dataset contient 2527 images. Nous allons diviser notre dataset en 3 ensembles :\n",
    "  train set (60%)\n",
    " – validation set (20%)\n",
    " – test set (20%)"
   ]
  },
  {
   "cell_type": "code",
   "execution_count": 13,
   "metadata": {},
   "outputs": [
    {
     "name": "stdout",
     "output_type": "stream",
     "text": [
      "Label: plastic\n"
     ]
    },
    {
     "data": {
      "image/png": "[encoded data removed]",
      "text/plain": [
       "<Figure size 432x288 with 1 Axes>"
      ]
     },
     "metadata": {},
     "output_type": "display_data"
    }
   ],
   "source": [
    "import matplotlib.pyplot as plt\n",
    "%matplotlib inline\n",
    "\n",
    "def show_sample(img, label):\n",
    "    print(\"Label:\", dataset.classes[label])\n",
    "    plt.imshow(img.permute(1, 2, 0)) #Réarrangement du tenseur en prenant en compte l'ordre désiré.\n",
    "    \n",
    "img, label = dataset[2000]\n",
    "show_sample(img, label)"
   ]
  },
  {
   "cell_type": "code",
   "execution_count": 38,
   "metadata": {},
   "outputs": [],
   "source": [
    "from torch.utils.data import random_split\n",
    "\n",
    "train_set, validation_set, test_set = random_split(dataset, [1517, 505, 505])"
   ]
  },
  {
   "cell_type": "code",
   "execution_count": 11,
   "metadata": {},
   "outputs": [
    {
     "name": "stdout",
     "output_type": "stream",
     "text": [
      "Nombre d'images contenues dans le train set: 1517\n",
      "Nombres d'images contenues dans le test set: 505\n",
      "Nombres d'images contenues dans le validation set: 505\n"
     ]
    }
   ],
   "source": [
    "print(\"Nombre d'images contenues dans le train set: {}\".format(len(train_set)))\n",
    "print(\"Nombres d'images contenues dans le test set: {}\".format(len(test_set)))\n",
    "print(\"Nombres d'images contenues dans le validation set: {}\".format(len(validation_set)))"
   ]
  },
  {
   "cell_type": "markdown",
   "metadata": {},
   "source": [
    "##### Ensuite, On utilisera un DataLoader qui se chargera de mélanger et de grouper en lots les données."
   ]
  },
  {
   "cell_type": "code",
   "execution_count": 39,
   "metadata": {},
   "outputs": [],
   "source": [
    "train_loader = torch.utils.data.DataLoader(train_set, batch_size=20, shuffle=True)\n",
    "test_loader = torch.utils.data.DataLoader(test_set, batch_size=20, shuffle=False)"
   ]
  },
  {
   "cell_type": "markdown",
   "metadata": {},
   "source": [
    "##### Maintenant que nos data loaders sont prêts, nous pouvons définir et entrainer notre modèle. Dans le cadre de ce projet, nous avons choisi le réseau de neurones convolutifs (CNN). En particulier, ResNet-18 qui est formé, en profondeur, de 18 couches."
   ]
  },
  {
   "cell_type": "code",
   "execution_count": 13,
   "metadata": {
    "scrolled": false
   },
   "outputs": [
    {
     "data": {
      "application/vnd.jupyter.widget-view+json": {
       "model_id": "561852c57c83425d97ba33bf80b49ccb",
       "version_major": 2,
       "version_minor": 0
      },
      "text/plain": [
       "  0%|          | 0/3 [00:00<?, ?it/s]"
      ]
     },
     "metadata": {},
     "output_type": "display_data"
    },
    {
     "data": {
      "application/vnd.jupyter.widget-view+json": {
       "model_id": "e72a74662aae467d9208f9e8e9c584c7",
       "version_major": 2,
       "version_minor": 0
      },
      "text/plain": [
       "  0%|          | 0/76 [00:00<?, ?it/s]"
      ]
     },
     "metadata": {},
     "output_type": "display_data"
    },
    {
     "data": {
      "application/vnd.jupyter.widget-view+json": {
       "model_id": "d63caa20bedd4cecb138523009b85596",
       "version_major": 2,
       "version_minor": 0
      },
      "text/plain": [
       "  0%|          | 0/76 [00:01<?, ?it/s]"
      ]
     },
     "metadata": {},
     "output_type": "display_data"
    },
    {
     "data": {
      "application/vnd.jupyter.widget-view+json": {
       "model_id": "5d511b2fb8f246a2bcbafca5147ab4fd",
       "version_major": 2,
       "version_minor": 0
      },
      "text/plain": [
       "  0%|          | 0/76 [00:00<?, ?it/s]"
      ]
     },
     "metadata": {},
     "output_type": "display_data"
    }
   ],
   "source": [
    "import torchvision.models as models\n",
    "model = models.resnet18(pretrained = True)\n",
    "\n",
    "import torch.nn as nn\n",
    "\n",
    "# Fonction de perte (Loss function) et l'Optimizer :\n",
    "criterion = nn.CrossEntropyLoss()  # Calculer l’erreur entre la prévision du réseau et la valeur réelle.\n",
    "optimizer = torch.optim.Adam(model.parameters(), lr=0.001) #algorithme d'optimisation\n",
    "\n",
    "for epoch in trange(3):  \n",
    "    for images, labels in tqdm(train_loader):\n",
    "        # Réinitialisation du gradient :\n",
    "        optimizer.zero_grad()\n",
    "\n",
    "        # Forward pass\n",
    "        x = images  \n",
    "        y = model(x)  #calcul de la sortie du réseau\n",
    "        loss = criterion(y, labels) #calcul de la perte\n",
    "        \n",
    "        # Backward pass\n",
    "        loss.backward() # rétro-propagation de la correction d’erreur dans les couches antérieures du réseau\n",
    "        optimizer.step() #correction des poids synaptiques à partir des gradients calculés"
   ]
  },
  {
   "cell_type": "markdown",
   "metadata": {},
   "source": [
    "Test"
   ]
  },
  {
   "cell_type": "code",
   "execution_count": 14,
   "metadata": {},
   "outputs": [
    {
     "data": {
      "application/vnd.jupyter.widget-view+json": {
       "model_id": "ba128aa5d9d44db6a8508b12f88a1b9c",
       "version_major": 2,
       "version_minor": 0
      },
      "text/plain": [
       "  0%|          | 0/26 [00:00<?, ?it/s]"
      ]
     },
     "metadata": {},
     "output_type": "display_data"
    },
    {
     "name": "stdout",
     "output_type": "stream",
     "text": [
      "Test accuracy: 0.7188118696212769\n"
     ]
    }
   ],
   "source": [
    "# Test\n",
    "correct = 0\n",
    "total = len(test_set)\n",
    "\n",
    "with torch.no_grad():\n",
    "    # Itération sur les minibatchs du test set  \n",
    "    for images, labels in tqdm(test_loader):\n",
    "        # Forward pass\n",
    "        x = images  \n",
    "        y = model(x)\n",
    "\n",
    "        predictions = torch.argmax(y, dim=1)\n",
    "        correct += torch.sum((predictions == labels).float())\n",
    "\n",
    "print('Test accuracy: {}'.format(correct/total))"
   ]
  },
  {
   "cell_type": "code",
   "execution_count": 15,
   "metadata": {},
   "outputs": [],
   "source": [
    "import pickle\n",
    "\n",
    "# Saving model to disk\n",
    "pickle.dump(model, open('model.pkl','wb'))"
   ]
  }
 ],
 "metadata": {
  "kernelspec": {
   "display_name": "Python 3",
   "language": "python",
   "name": "python3"
  },
  "language_info": {
   "codemirror_mode": {
    "name": "ipython",
    "version": 3
   },
   "file_extension": ".py",
   "mimetype": "text/x-python",
   "name": "python",
   "nbconvert_exporter": "python",
   "pygments_lexer": "ipython3",
   "version": "3.6.5"
  }
 },
 "nbformat": 4,
 "nbformat_minor": 5
}
